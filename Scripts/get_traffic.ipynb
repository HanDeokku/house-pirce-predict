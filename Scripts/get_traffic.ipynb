{
 "cells": [
  {
   "cell_type": "code",
   "execution_count": 1,
   "metadata": {},
   "outputs": [],
   "source": [
    "import pandas as pd"
   ]
  },
  {
   "cell_type": "markdown",
   "metadata": {},
   "source": [
    "# 버스정류장"
   ]
  },
  {
   "cell_type": "code",
   "execution_count": 7,
   "metadata": {},
   "outputs": [],
   "source": [
    "bus_stop = pd.read_csv('../new_data/교통시설/국토교통부_전국 버스정류장 위치정보_20231016.csv', encoding='cp949')\n",
    "bus = bus_stop.loc[bus_stop['도시명'].str.contains('평택')][['정류장명','위도','경도']]"
   ]
  },
  {
   "cell_type": "code",
   "execution_count": 14,
   "metadata": {},
   "outputs": [
    {
     "data": {
      "text/html": [
       "<div>\n",
       "<style scoped>\n",
       "    .dataframe tbody tr th:only-of-type {\n",
       "        vertical-align: middle;\n",
       "    }\n",
       "\n",
       "    .dataframe tbody tr th {\n",
       "        vertical-align: top;\n",
       "    }\n",
       "\n",
       "    .dataframe thead th {\n",
       "        text-align: right;\n",
       "    }\n",
       "</style>\n",
       "<table border=\"1\" class=\"dataframe\">\n",
       "  <thead>\n",
       "    <tr style=\"text-align: right;\">\n",
       "      <th></th>\n",
       "      <th>정류장명</th>\n",
       "      <th>위도</th>\n",
       "      <th>경도</th>\n",
       "    </tr>\n",
       "  </thead>\n",
       "  <tbody>\n",
       "    <tr>\n",
       "      <th>65641</th>\n",
       "      <td>동문굿모닝힐맘시티4단지</td>\n",
       "      <td>37.025533</td>\n",
       "      <td>127.106767</td>\n",
       "    </tr>\n",
       "    <tr>\n",
       "      <th>65642</th>\n",
       "      <td>파라곤에듀포레.제일풍경채2차에듀(중)</td>\n",
       "      <td>37.040533</td>\n",
       "      <td>127.024350</td>\n",
       "    </tr>\n",
       "    <tr>\n",
       "      <th>65643</th>\n",
       "      <td>서정동주공3단지</td>\n",
       "      <td>37.060583</td>\n",
       "      <td>127.057783</td>\n",
       "    </tr>\n",
       "    <tr>\n",
       "      <th>65644</th>\n",
       "      <td>서정동주공3단지앞</td>\n",
       "      <td>37.060750</td>\n",
       "      <td>127.057783</td>\n",
       "    </tr>\n",
       "    <tr>\n",
       "      <th>65645</th>\n",
       "      <td>센트럴자이1단지</td>\n",
       "      <td>37.016217</td>\n",
       "      <td>127.100317</td>\n",
       "    </tr>\n",
       "    <tr>\n",
       "      <th>...</th>\n",
       "      <td>...</td>\n",
       "      <td>...</td>\n",
       "      <td>...</td>\n",
       "    </tr>\n",
       "    <tr>\n",
       "      <th>98972</th>\n",
       "      <td>군문동(경유)</td>\n",
       "      <td>36.984150</td>\n",
       "      <td>127.090100</td>\n",
       "    </tr>\n",
       "    <tr>\n",
       "      <th>98987</th>\n",
       "      <td>평택TG(경유)</td>\n",
       "      <td>37.032267</td>\n",
       "      <td>126.977317</td>\n",
       "    </tr>\n",
       "    <tr>\n",
       "      <th>98988</th>\n",
       "      <td>평택TG(경유)</td>\n",
       "      <td>37.032667</td>\n",
       "      <td>126.978033</td>\n",
       "    </tr>\n",
       "    <tr>\n",
       "      <th>99683</th>\n",
       "      <td>비전지하차도사거리(경유)</td>\n",
       "      <td>36.987833</td>\n",
       "      <td>127.116367</td>\n",
       "    </tr>\n",
       "    <tr>\n",
       "      <th>99690</th>\n",
       "      <td>평택터미널(경유)</td>\n",
       "      <td>36.982017</td>\n",
       "      <td>127.094767</td>\n",
       "    </tr>\n",
       "  </tbody>\n",
       "</table>\n",
       "<p>1948 rows × 3 columns</p>\n",
       "</div>"
      ],
      "text/plain": [
       "                       정류장명         위도          경도\n",
       "65641          동문굿모닝힐맘시티4단지  37.025533  127.106767\n",
       "65642  파라곤에듀포레.제일풍경채2차에듀(중)  37.040533  127.024350\n",
       "65643              서정동주공3단지  37.060583  127.057783\n",
       "65644             서정동주공3단지앞  37.060750  127.057783\n",
       "65645              센트럴자이1단지  37.016217  127.100317\n",
       "...                     ...        ...         ...\n",
       "98972               군문동(경유)  36.984150  127.090100\n",
       "98987              평택TG(경유)  37.032267  126.977317\n",
       "98988              평택TG(경유)  37.032667  126.978033\n",
       "99683         비전지하차도사거리(경유)  36.987833  127.116367\n",
       "99690             평택터미널(경유)  36.982017  127.094767\n",
       "\n",
       "[1948 rows x 3 columns]"
      ]
     },
     "execution_count": 14,
     "metadata": {},
     "output_type": "execute_result"
    }
   ],
   "source": [
    "bus"
   ]
  },
  {
   "cell_type": "markdown",
   "metadata": {},
   "source": [
    "# 역"
   ]
  },
  {
   "cell_type": "code",
   "execution_count": 12,
   "metadata": {},
   "outputs": [],
   "source": [
    "station = pd.read_excel('../new_data/교통시설/전체_도시철도역사정보_20240630.xlsx')\n",
    "train = station.loc[station['역사도로명주소'].str.contains('평택시')][['역사명','역사도로명주소','역위도','역경도']].rename(columns={'역사도로명주소':'주소','역위도':'위도','역경도':'경도'})"
   ]
  },
  {
   "cell_type": "code",
   "execution_count": 13,
   "metadata": {},
   "outputs": [
    {
     "data": {
      "text/html": [
       "<div>\n",
       "<style scoped>\n",
       "    .dataframe tbody tr th:only-of-type {\n",
       "        vertical-align: middle;\n",
       "    }\n",
       "\n",
       "    .dataframe tbody tr th {\n",
       "        vertical-align: top;\n",
       "    }\n",
       "\n",
       "    .dataframe thead th {\n",
       "        text-align: right;\n",
       "    }\n",
       "</style>\n",
       "<table border=\"1\" class=\"dataframe\">\n",
       "  <thead>\n",
       "    <tr style=\"text-align: right;\">\n",
       "      <th></th>\n",
       "      <th>역사명</th>\n",
       "      <th>주소</th>\n",
       "      <th>위도</th>\n",
       "      <th>경도</th>\n",
       "    </tr>\n",
       "  </thead>\n",
       "  <tbody>\n",
       "    <tr>\n",
       "      <th>294</th>\n",
       "      <td>진위역</td>\n",
       "      <td>경기도 평택시 경기대로 1855</td>\n",
       "      <td>37.109771</td>\n",
       "      <td>127.062342</td>\n",
       "    </tr>\n",
       "    <tr>\n",
       "      <th>295</th>\n",
       "      <td>송탄역</td>\n",
       "      <td>경기도 평택시 신장동 송탄공원로 43</td>\n",
       "      <td>37.075376</td>\n",
       "      <td>127.054397</td>\n",
       "    </tr>\n",
       "    <tr>\n",
       "      <th>296</th>\n",
       "      <td>평택지제역</td>\n",
       "      <td>경기도 평택시 경기대로 777</td>\n",
       "      <td>37.018822</td>\n",
       "      <td>127.070269</td>\n",
       "    </tr>\n",
       "    <tr>\n",
       "      <th>297</th>\n",
       "      <td>서정리역</td>\n",
       "      <td>경기도 평택시 탄현로 51</td>\n",
       "      <td>37.056459</td>\n",
       "      <td>127.052844</td>\n",
       "    </tr>\n",
       "    <tr>\n",
       "      <th>298</th>\n",
       "      <td>평택역</td>\n",
       "      <td>경기도 평택시 평택로 51</td>\n",
       "      <td>36.990559</td>\n",
       "      <td>127.085496</td>\n",
       "    </tr>\n",
       "  </tbody>\n",
       "</table>\n",
       "</div>"
      ],
      "text/plain": [
       "       역사명                    주소         위도          경도\n",
       "294    진위역     경기도 평택시 경기대로 1855  37.109771  127.062342\n",
       "295    송탄역  경기도 평택시 신장동 송탄공원로 43  37.075376  127.054397\n",
       "296  평택지제역      경기도 평택시 경기대로 777  37.018822  127.070269\n",
       "297   서정리역        경기도 평택시 탄현로 51  37.056459  127.052844\n",
       "298    평택역        경기도 평택시 평택로 51  36.990559  127.085496"
      ]
     },
     "execution_count": 13,
     "metadata": {},
     "output_type": "execute_result"
    }
   ],
   "source": [
    "train"
   ]
  },
  {
   "cell_type": "code",
   "execution_count": 15,
   "metadata": {},
   "outputs": [],
   "source": [
    "bus.to_csv('../preprocessed/교통시설/버스정류장.csv', index=False)\n",
    "train.to_csv('../preprocessed/교통시설/역.csv', index=False)"
   ]
  },
  {
   "cell_type": "code",
   "execution_count": null,
   "metadata": {},
   "outputs": [],
   "source": []
  }
 ],
 "metadata": {
  "kernelspec": {
   "display_name": "base",
   "language": "python",
   "name": "python3"
  },
  "language_info": {
   "codemirror_mode": {
    "name": "ipython",
    "version": 3
   },
   "file_extension": ".py",
   "mimetype": "text/x-python",
   "name": "python",
   "nbconvert_exporter": "python",
   "pygments_lexer": "ipython3",
   "version": "3.11.5"
  }
 },
 "nbformat": 4,
 "nbformat_minor": 2
}
