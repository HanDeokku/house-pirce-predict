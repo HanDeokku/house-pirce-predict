{
 "cells": [
  {
   "cell_type": "code",
   "execution_count": 1,
   "metadata": {},
   "outputs": [],
   "source": [
    "import pandas as pd\n",
    "pd.set_option('display.max_columns',None)"
   ]
  },
  {
   "cell_type": "code",
   "execution_count": 2,
   "metadata": {},
   "outputs": [
    {
     "name": "stderr",
     "output_type": "stream",
     "text": [
      "/Users/hdk/anaconda3/lib/python3.11/site-packages/openpyxl/styles/stylesheet.py:226: UserWarning: Workbook contains no default style, apply openpyxl's default\n",
      "  warn(\"Workbook contains no default style, apply openpyxl's default\")\n"
     ]
    }
   ],
   "source": [
    "mart = pd.read_excel('../new_data/상업시설/대규모점포정보.xlsx')\n",
    "mart = mart.dropna(subset=['소재지전체주소'])\n",
    "mart = mart.loc[mart['소재지전체주소'].str.contains('평택시')][['사업장명','소재지전체주소']].dropna().reset_index().drop(columns=['index'])"
   ]
  },
  {
   "cell_type": "markdown",
   "metadata": {},
   "source": [
    "### 위도 경도 생성 (NAVER API)"
   ]
  },
  {
   "cell_type": "code",
   "execution_count": 3,
   "metadata": {},
   "outputs": [],
   "source": [
    "import sys\n",
    "sys.path.append(\"..\")  # 상위 디렉토리를 sys.path에 추가\n",
    "\n",
    "import requests\n",
    "import pandas as pd\n",
    "from mySetting import Client_ID, Client_Secret\n",
    "\n",
    "# 네이버 API 키\n",
    "client_id = Client_ID  # 클라이언트 ID\n",
    "client_secret = Client_Secret  # 클라이언트 Secret\n",
    "\n",
    "def get_coordinates(address):\n",
    "    url = 'https://naveropenapi.apigw.ntruss.com/map-geocode/v2/geocode'\n",
    "    headers = {\n",
    "        'X-NCP-APIGW-API-KEY-ID': client_id,\n",
    "        'X-NCP-APIGW-API-KEY': client_secret,\n",
    "    }\n",
    "    params = {\n",
    "        'query': address,\n",
    "    }\n",
    "    response = requests.get(url, headers=headers, params=params)\n",
    "    data = response.json()\n",
    "    \n",
    "    if data['addresses']:\n",
    "        x = data['addresses'][0]['x']\n",
    "        y = data['addresses'][0]['y']\n",
    "        return (x, y)\n",
    "    else:\n",
    "        return (None, None)"
   ]
  },
  {
   "cell_type": "code",
   "execution_count": 4,
   "metadata": {},
   "outputs": [],
   "source": [
    "mart['위도'] = pd.NA\n",
    "mart['경도'] = pd.NA\n",
    "\n",
    "for i, address in enumerate(mart['소재지전체주소']):\n",
    "    lng, lat = get_coordinates(address)\n",
    "    mart.at[i, '위도'] = lat\n",
    "    mart.at[i, '경도'] = lng"
   ]
  },
  {
   "cell_type": "code",
   "execution_count": 5,
   "metadata": {},
   "outputs": [],
   "source": [
    "mart.rename(columns={'소재지전체주소':'주소','사업장명':'이름'}, inplace=True)"
   ]
  },
  {
   "cell_type": "code",
   "execution_count": 6,
   "metadata": {},
   "outputs": [],
   "source": [
    "mart.to_csv('../preprocessed/상업시설/마트.csv', index=False)"
   ]
  }
 ],
 "metadata": {
  "kernelspec": {
   "display_name": "base",
   "language": "python",
   "name": "python3"
  },
  "language_info": {
   "codemirror_mode": {
    "name": "ipython",
    "version": 3
   },
   "file_extension": ".py",
   "mimetype": "text/x-python",
   "name": "python",
   "nbconvert_exporter": "python",
   "pygments_lexer": "ipython3",
   "version": "3.11.5"
  }
 },
 "nbformat": 4,
 "nbformat_minor": 2
}
