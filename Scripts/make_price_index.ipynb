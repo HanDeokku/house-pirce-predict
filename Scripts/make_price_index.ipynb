{
 "cells": [
  {
   "cell_type": "code",
   "execution_count": 1,
   "metadata": {},
   "outputs": [],
   "source": [
    "import pandas as pd"
   ]
  },
  {
   "cell_type": "code",
   "execution_count": 2,
   "metadata": {},
   "outputs": [],
   "source": [
    "pd.set_option('display.max_columns',None)\n",
    "pd.set_option('display.max_rows',None)"
   ]
  },
  {
   "cell_type": "code",
   "execution_count": 3,
   "metadata": {},
   "outputs": [],
   "source": [
    "df = pd.read_csv('../new_data/가격지수/408_DT_40803_N0001_20240913173949.csv', encoding='cp949')"
   ]
  },
  {
   "cell_type": "code",
   "execution_count": 4,
   "metadata": {},
   "outputs": [],
   "source": [
    "pt_price_index = df.loc[(df['지역별'] == '평택') & (df['주택유형별'] == '아파트')].drop(columns=['항목','주택유형별','지역별','단위','Unnamed: 40'])"
   ]
  },
  {
   "cell_type": "code",
   "execution_count": 5,
   "metadata": {},
   "outputs": [
    {
     "data": {
      "text/html": [
       "<div>\n",
       "<style scoped>\n",
       "    .dataframe tbody tr th:only-of-type {\n",
       "        vertical-align: middle;\n",
       "    }\n",
       "\n",
       "    .dataframe tbody tr th {\n",
       "        vertical-align: top;\n",
       "    }\n",
       "\n",
       "    .dataframe thead th {\n",
       "        text-align: right;\n",
       "    }\n",
       "</style>\n",
       "<table border=\"1\" class=\"dataframe\">\n",
       "  <thead>\n",
       "    <tr style=\"text-align: right;\">\n",
       "      <th></th>\n",
       "      <th>2021.08 월</th>\n",
       "      <th>2021.09 월</th>\n",
       "      <th>2021.10 월</th>\n",
       "      <th>2021.11 월</th>\n",
       "      <th>2021.12 월</th>\n",
       "      <th>2022.01 월</th>\n",
       "      <th>2022.02 월</th>\n",
       "      <th>2022.03 월</th>\n",
       "      <th>2022.04 월</th>\n",
       "      <th>2022.05 월</th>\n",
       "      <th>2022.06 월</th>\n",
       "      <th>2022.07 월</th>\n",
       "      <th>2022.08 월</th>\n",
       "      <th>2022.09 월</th>\n",
       "      <th>2022.10 월</th>\n",
       "      <th>2022.11 월</th>\n",
       "      <th>2022.12 월</th>\n",
       "      <th>2023.01 월</th>\n",
       "      <th>2023.02 월</th>\n",
       "      <th>2023.03 월</th>\n",
       "      <th>2023.04 월</th>\n",
       "      <th>2023.05 월</th>\n",
       "      <th>2023.06 월</th>\n",
       "      <th>2023.07 월</th>\n",
       "      <th>2023.08 월</th>\n",
       "      <th>2023.09 월</th>\n",
       "      <th>2023.10 월</th>\n",
       "      <th>2023.11 월</th>\n",
       "      <th>2023.12 월</th>\n",
       "      <th>2024.01 월</th>\n",
       "      <th>2024.02 월</th>\n",
       "      <th>2024.03 월</th>\n",
       "      <th>2024.04 월</th>\n",
       "      <th>2024.05 월</th>\n",
       "      <th>2024.06 월</th>\n",
       "      <th>2024.07 월</th>\n",
       "    </tr>\n",
       "  </thead>\n",
       "  <tbody>\n",
       "    <tr>\n",
       "      <th>305</th>\n",
       "      <td>106.216457</td>\n",
       "      <td>108.847983</td>\n",
       "      <td>111.700174</td>\n",
       "      <td>113.167996</td>\n",
       "      <td>114.11714</td>\n",
       "      <td>114.25749</td>\n",
       "      <td>114.258245</td>\n",
       "      <td>114.357449</td>\n",
       "      <td>115.069836</td>\n",
       "      <td>115.164913</td>\n",
       "      <td>115.468089</td>\n",
       "      <td>115.492892</td>\n",
       "      <td>114.880455</td>\n",
       "      <td>114.095572</td>\n",
       "      <td>112.858859</td>\n",
       "      <td>111.396844</td>\n",
       "      <td>109.105567</td>\n",
       "      <td>106.483977</td>\n",
       "      <td>103.94912</td>\n",
       "      <td>102.966187</td>\n",
       "      <td>102.754328</td>\n",
       "      <td>102.700059</td>\n",
       "      <td>102.851038</td>\n",
       "      <td>103.146044</td>\n",
       "      <td>103.30351</td>\n",
       "      <td>103.850246</td>\n",
       "      <td>104.400777</td>\n",
       "      <td>104.257992</td>\n",
       "      <td>103.878813</td>\n",
       "      <td>103.448067</td>\n",
       "      <td>103.458493</td>\n",
       "      <td>103.117434</td>\n",
       "      <td>102.79481</td>\n",
       "      <td>102.394158</td>\n",
       "      <td>101.913922</td>\n",
       "      <td>101.739064</td>\n",
       "    </tr>\n",
       "  </tbody>\n",
       "</table>\n",
       "</div>"
      ],
      "text/plain": [
       "      2021.08 월   2021.09 월   2021.10 월   2021.11 월  2021.12 월  2022.01 월  \\\n",
       "305  106.216457  108.847983  111.700174  113.167996  114.11714  114.25749   \n",
       "\n",
       "      2022.02 월   2022.03 월   2022.04 월   2022.05 월   2022.06 월   2022.07 월  \\\n",
       "305  114.258245  114.357449  115.069836  115.164913  115.468089  115.492892   \n",
       "\n",
       "      2022.08 월   2022.09 월   2022.10 월   2022.11 월   2022.12 월   2023.01 월  \\\n",
       "305  114.880455  114.095572  112.858859  111.396844  109.105567  106.483977   \n",
       "\n",
       "     2023.02 월   2023.03 월   2023.04 월   2023.05 월   2023.06 월   2023.07 월  \\\n",
       "305  103.94912  102.966187  102.754328  102.700059  102.851038  103.146044   \n",
       "\n",
       "     2023.08 월   2023.09 월   2023.10 월   2023.11 월   2023.12 월   2024.01 월  \\\n",
       "305  103.30351  103.850246  104.400777  104.257992  103.878813  103.448067   \n",
       "\n",
       "      2024.02 월   2024.03 월  2024.04 월   2024.05 월   2024.06 월   2024.07 월  \n",
       "305  103.458493  103.117434  102.79481  102.394158  101.913922  101.739064  "
      ]
     },
     "execution_count": 5,
     "metadata": {},
     "output_type": "execute_result"
    }
   ],
   "source": [
    "pt_price_index"
   ]
  },
  {
   "cell_type": "code",
   "execution_count": 8,
   "metadata": {},
   "outputs": [
    {
     "name": "stdout",
     "output_type": "stream",
     "text": [
      "Index(['202108', '202109', '202110', '202111', '202112', '202201', '202202',\n",
      "       '202203', '202204', '202205', '202206', '202207', '202208', '202209',\n",
      "       '202210', '202211', '202212', '202301', '202302', '202303', '202304',\n",
      "       '202305', '202306', '202307', '202308', '202309', '202310', '202311',\n",
      "       '202312', '202401', '202402', '202403', '202404', '202405', '202406',\n",
      "       '202407'],\n",
      "      dtype='object')\n"
     ]
    }
   ],
   "source": [
    "def rename_column(col_name):\n",
    "    return col_name.replace('.', '').replace(' 월', '')\n",
    "\n",
    "# 열 이름 변경 적용\n",
    "pt_price_index.columns = [rename_column(col) for col in pt_price_index.columns]\n",
    "\n",
    "print(pt_price_index.columns)"
   ]
  },
  {
   "cell_type": "code",
   "execution_count": 10,
   "metadata": {},
   "outputs": [],
   "source": [
    "pt_price_index.to_csv('../preprocessed/가격지수/price_index.csv', index=False)"
   ]
  }
 ],
 "metadata": {
  "kernelspec": {
   "display_name": "qa_system",
   "language": "python",
   "name": "python3"
  },
  "language_info": {
   "codemirror_mode": {
    "name": "ipython",
    "version": 3
   },
   "file_extension": ".py",
   "mimetype": "text/x-python",
   "name": "python",
   "nbconvert_exporter": "python",
   "pygments_lexer": "ipython3",
   "version": "3.11.9"
  }
 },
 "nbformat": 4,
 "nbformat_minor": 2
}
