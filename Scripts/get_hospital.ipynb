{
 "cells": [
  {
   "cell_type": "code",
   "execution_count": 11,
   "metadata": {},
   "outputs": [],
   "source": [
    "import pandas as pd\n",
    "pd.set_option('display.max_columns',None)"
   ]
  },
  {
   "cell_type": "code",
   "execution_count": 12,
   "metadata": {},
   "outputs": [],
   "source": [
    "import sys\n",
    "sys.path.append(\"..\")  # 상위 디렉토리를 sys.path에 추가\n",
    "\n",
    "import requests\n",
    "import pandas as pd\n",
    "from mySetting import Client_ID, Client_Secret\n",
    "\n",
    "# 네이버 API 키\n",
    "client_id = Client_ID  # 클라이언트 ID\n",
    "client_secret = Client_Secret  # 클라이언트 Secret\n",
    "\n",
    "def get_coordinates(address):\n",
    "    url = 'https://naveropenapi.apigw.ntruss.com/map-geocode/v2/geocode'\n",
    "    headers = {\n",
    "        'X-NCP-APIGW-API-KEY-ID': client_id,\n",
    "        'X-NCP-APIGW-API-KEY': client_secret,\n",
    "    }\n",
    "    params = {\n",
    "        'query': address,\n",
    "    }\n",
    "    response = requests.get(url, headers=headers, params=params)\n",
    "    data = response.json()\n",
    "    \n",
    "    if data['addresses']:\n",
    "        x = data['addresses'][0]['x']\n",
    "        y = data['addresses'][0]['y']\n",
    "        return (x, y)\n",
    "    else:\n",
    "        return (None, None)"
   ]
  },
  {
   "cell_type": "markdown",
   "metadata": {},
   "source": [
    "# 병원"
   ]
  },
  {
   "cell_type": "code",
   "execution_count": 13,
   "metadata": {},
   "outputs": [],
   "source": [
    "all_hospital = pd.read_excel('../new_data/의료시설/1.병원정보서비스 2024.6.xlsx')"
   ]
  },
  {
   "cell_type": "code",
   "execution_count": 16,
   "metadata": {},
   "outputs": [
    {
     "data": {
      "text/plain": [
       "종별코드명\n",
       "의원       308\n",
       "치과의원     187\n",
       "한의원      114\n",
       "병원        12\n",
       "보건진료소     11\n",
       "요양병원      10\n",
       "보건지소       9\n",
       "한방병원       5\n",
       "종합병원       4\n",
       "보건소        2\n",
       "조산원        1\n",
       "Name: count, dtype: int64"
      ]
     },
     "execution_count": 16,
     "metadata": {},
     "output_type": "execute_result"
    }
   ],
   "source": [
    "tmp = all_hospital.loc[all_hospital['주소'].str.contains('평택시')][['요양기관명','주소','종별코드명']].reset_index().drop(columns=['index']).rename(columns={'요양기관명':'이름'})\n",
    "tmp['종별코드명'].value_counts()"
   ]
  },
  {
   "cell_type": "code",
   "execution_count": 17,
   "metadata": {},
   "outputs": [],
   "source": [
    "tmp = all_hospital.loc[all_hospital['주소'].str.contains('평택시')][['요양기관명','주소','종별코드명']].reset_index().drop(columns=['index']).rename(columns={'요양기관명':'이름'})\n",
    "tmp['위도'] = pd.NA\n",
    "tmp['경도'] = pd.NA\n",
    "\n",
    "for i, address in enumerate(tmp['주소']):\n",
    "    lng, lat = get_coordinates(address)\n",
    "    tmp.at[i, '위도'] = lat\n",
    "    tmp.at[i, '경도'] = lng"
   ]
  },
  {
   "cell_type": "code",
   "execution_count": 18,
   "metadata": {},
   "outputs": [],
   "source": [
    "clinic = tmp.loc[tmp['종별코드명'] == '의원'].drop(columns=['종별코드명'])\n",
    "oriental = tmp.loc[(tmp['종별코드명'] == '한의원') | (tmp['종별코드명'] == '한방병원')].drop(columns=['종별코드명'])\n",
    "dentistry = tmp.loc[tmp['종별코드명'] == '치과의원'].drop(columns=['종별코드명'])\n",
    "hospital = tmp.loc[tmp['종별코드명'] == '병원'].drop(columns=['종별코드명'])\n",
    "nursing = tmp.loc[tmp['종별코드명'] == '요양병원'].drop(columns=['종별코드명'])\n",
    "general = tmp.loc[tmp['종별코드명'] == '종합병원'].drop(columns=['종별코드명'])\n",
    "public = tmp.loc[tmp['종별코드명'].str.contains('보건')].drop(columns=['종별코드명'])"
   ]
  },
  {
   "cell_type": "code",
   "execution_count": 19,
   "metadata": {},
   "outputs": [],
   "source": [
    "clinic.to_csv('../preprocessed/의료시설/의원.csv', index=False)\n",
    "oriental.to_csv('../preprocessed/의료시설/한의원.csv', index=False)\n",
    "dentistry.to_csv('../preprocessed/의료시설/치과.csv', index=False)\n",
    "hospital.to_csv('../preprocessed/의료시설/일반병원.csv', index=False)\n",
    "nursing.to_csv('../preprocessed/의료시설/요양병원.csv', index=False)\n",
    "general.to_csv('../preprocessed/의료시설/종합병원.csv', index=False)\n",
    "public.to_csv('../preprocessed/의료시설/보건병원.csv', index=False)"
   ]
  },
  {
   "cell_type": "markdown",
   "metadata": {},
   "source": [
    "# 약국"
   ]
  },
  {
   "cell_type": "code",
   "execution_count": 8,
   "metadata": {},
   "outputs": [
    {
     "data": {
      "text/html": [
       "<div>\n",
       "<style scoped>\n",
       "    .dataframe tbody tr th:only-of-type {\n",
       "        vertical-align: middle;\n",
       "    }\n",
       "\n",
       "    .dataframe tbody tr th {\n",
       "        vertical-align: top;\n",
       "    }\n",
       "\n",
       "    .dataframe thead th {\n",
       "        text-align: right;\n",
       "    }\n",
       "</style>\n",
       "<table border=\"1\" class=\"dataframe\">\n",
       "  <thead>\n",
       "    <tr style=\"text-align: right;\">\n",
       "      <th></th>\n",
       "      <th>암호화요양기호</th>\n",
       "      <th>요양기관명</th>\n",
       "      <th>종별코드</th>\n",
       "      <th>종별코드명</th>\n",
       "      <th>시도코드</th>\n",
       "      <th>시도코드명</th>\n",
       "      <th>시군구코드</th>\n",
       "      <th>시군구코드명</th>\n",
       "      <th>읍면동</th>\n",
       "      <th>우편번호</th>\n",
       "      <th>주소</th>\n",
       "      <th>전화번호</th>\n",
       "      <th>개설일자</th>\n",
       "      <th>좌표(X)</th>\n",
       "      <th>좌표(Y)</th>\n",
       "    </tr>\n",
       "  </thead>\n",
       "  <tbody>\n",
       "    <tr>\n",
       "      <th>0</th>\n",
       "      <td>JDQ4MTg4MSM1MSMkMSMkMCMkMDMkNTgxOTYxIzQxIyQxIy...</td>\n",
       "      <td>이층약국</td>\n",
       "      <td>81</td>\n",
       "      <td>약국</td>\n",
       "      <td>110000</td>\n",
       "      <td>서울</td>\n",
       "      <td>110015</td>\n",
       "      <td>은평구</td>\n",
       "      <td>역촌동</td>\n",
       "      <td>3421.0</td>\n",
       "      <td>서울특별시 은평구 연서로 9, 2층 205(상가)호 (역촌동, 센타폴리스)</td>\n",
       "      <td>02-6085-0466</td>\n",
       "      <td>20180207</td>\n",
       "      <td>126.915668</td>\n",
       "      <td>37.600118</td>\n",
       "    </tr>\n",
       "  </tbody>\n",
       "</table>\n",
       "</div>"
      ],
      "text/plain": [
       "                                             암호화요양기호 요양기관명  종별코드 종별코드명  \\\n",
       "0  JDQ4MTg4MSM1MSMkMSMkMCMkMDMkNTgxOTYxIzQxIyQxIy...  이층약국    81    약국   \n",
       "\n",
       "     시도코드 시도코드명   시군구코드 시군구코드명  읍면동    우편번호  \\\n",
       "0  110000    서울  110015    은평구  역촌동  3421.0   \n",
       "\n",
       "                                          주소          전화번호      개설일자  \\\n",
       "0  서울특별시 은평구 연서로 9, 2층 205(상가)호 (역촌동, 센타폴리스)  02-6085-0466  20180207   \n",
       "\n",
       "        좌표(X)      좌표(Y)  \n",
       "0  126.915668  37.600118  "
      ]
     },
     "execution_count": 8,
     "metadata": {},
     "output_type": "execute_result"
    }
   ],
   "source": [
    "all_pharmacy = pd.read_excel('../new_data/의료시설/2.약국정보서비스 2024.6.xlsx')\n",
    "all_pharmacy.head(1)"
   ]
  },
  {
   "cell_type": "code",
   "execution_count": 9,
   "metadata": {},
   "outputs": [],
   "source": [
    "pharmacy = all_pharmacy.loc[all_pharmacy['주소'].str.contains('평택시')][['요양기관명','주소']].reset_index().drop(columns=['index']).rename(columns={'요양기관명':'이름'})\n",
    "pharmacy['위도'] = pd.NA\n",
    "pharmacy['경도'] = pd.NA\n",
    "\n",
    "for i, address in enumerate(pharmacy['주소']):\n",
    "    lng, lat = get_coordinates(address)\n",
    "    pharmacy.at[i, '위도'] = lat\n",
    "    pharmacy.at[i, '경도'] = lng"
   ]
  },
  {
   "cell_type": "code",
   "execution_count": 10,
   "metadata": {},
   "outputs": [],
   "source": [
    "pharmacy.to_csv('../preprocessed/의료시설/약국.csv')"
   ]
  }
 ],
 "metadata": {
  "kernelspec": {
   "display_name": "base",
   "language": "python",
   "name": "python3"
  },
  "language_info": {
   "codemirror_mode": {
    "name": "ipython",
    "version": 3
   },
   "file_extension": ".py",
   "mimetype": "text/x-python",
   "name": "python",
   "nbconvert_exporter": "python",
   "pygments_lexer": "ipython3",
   "version": "3.11.5"
  }
 },
 "nbformat": 4,
 "nbformat_minor": 2
}
