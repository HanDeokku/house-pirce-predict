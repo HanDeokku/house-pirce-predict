{
 "cells": [
  {
   "cell_type": "code",
   "execution_count": 2,
   "metadata": {},
   "outputs": [],
   "source": [
    "import pandas as pd\n",
    "pd.set_option('display.max_columns', None)\n",
    "\n",
    "import sys\n",
    "sys.path.append(\"../..\")  # 상위 디렉토리를 sys.path에 추가\n",
    "\n",
    "import requests\n",
    "import pandas as pd\n",
    "from mySetting import Client_ID, Client_Secret\n",
    "\n",
    "# 네이버 API 키\n",
    "client_id = Client_ID  # 클라이언트 ID\n",
    "client_secret = Client_Secret  # 클라이언트 Secret\n",
    "\n",
    "def get_coordinates(address):\n",
    "    url = 'https://naveropenapi.apigw.ntruss.com/map-geocode/v2/geocode'\n",
    "    headers = {\n",
    "        'X-NCP-APIGW-API-KEY-ID': client_id,\n",
    "        'X-NCP-APIGW-API-KEY': client_secret,\n",
    "    }\n",
    "    params = {\n",
    "        'query': address,\n",
    "    }\n",
    "    response = requests.get(url, headers=headers, params=params)\n",
    "    data = response.json()\n",
    "    \n",
    "    if data['addresses']:\n",
    "        x = data['addresses'][0]['x']\n",
    "        y = data['addresses'][0]['y']\n",
    "        return (x, y)\n",
    "    else:\n",
    "        return (None, None)"
   ]
  },
  {
   "cell_type": "code",
   "execution_count": 4,
   "metadata": {},
   "outputs": [],
   "source": [
    "def get_amenity(new_park, new_library, new_rest):\n",
    "    # 공원\n",
    "    park = pd.read_csv('../../' + new_park, encoding='cp949')\n",
    "    park = park[['공원명','소재지지번주소','위도','경도']].rename(columns={'소재지지번주소':'주소', '공원명':'이름'})\n",
    "\n",
    "\n",
    "    # 도서관\n",
    "    library = pd.read_csv('../../' + new_library, encoding='cp949')\n",
    "\n",
    "    lib = library.loc[library['소재지주소'].str.contains('평택시')][['도서관명','소재지주소']].reset_index().drop(columns=['index'])\n",
    "    lib['위도'] = pd.NA\n",
    "    lib['경도'] = pd.NA\n",
    "\n",
    "    for i, address in enumerate(lib['소재지주소']):\n",
    "        lng, lat = get_coordinates(address)\n",
    "        lib.at[i, '위도'] = lat\n",
    "        lib.at[i, '경도'] = lng\n",
    "\n",
    "    lib = lib.rename(columns={'소재지주소':'주소', '도서관명':'이름'})\n",
    "\n",
    "\n",
    "    # 카페, 편의점\n",
    "    all_rest = pd.read_excel('../../' + new_rest)\n",
    "\n",
    "    tmp = all_rest[['사업장명','소재지전체주소','업태구분명']].reset_index().drop(columns=['index'])\n",
    "    tmp['위도'] = pd.NA\n",
    "    tmp['경도'] = pd.NA\n",
    "\n",
    "    for i, address in enumerate(tmp['소재지전체주소']):\n",
    "        lng, lat = get_coordinates(address)\n",
    "        tmp.at[i, '위도'] = lat\n",
    "        tmp.at[i, '경도'] = lng\n",
    "\n",
    "    cafe = tmp.loc[tmp['업태구분명'] == '커피숍'].drop(columns=['업태구분명']).rename(columns={'소재지전체주소':'주소', '사업장명':'이름'})\n",
    "    conv = tmp.loc[tmp['업태구분명'] == '편의점'].drop(columns=['업태구분명']).rename(columns={'소재지전체주소':'주소', '사업장명':'이름'})\n",
    "\n",
    "\n",
    "    return park, lib, cafe, conv"
   ]
  },
  {
   "cell_type": "code",
   "execution_count": 6,
   "metadata": {},
   "outputs": [
    {
     "name": "stderr",
     "output_type": "stream",
     "text": [
      "/Users/hdk/anaconda3/envs/qa_system/lib/python3.11/site-packages/openpyxl/styles/stylesheet.py:237: UserWarning: Workbook contains no default style, apply openpyxl's default\n",
      "  warn(\"Workbook contains no default style, apply openpyxl's default\")\n"
     ]
    }
   ],
   "source": [
    "new_park = 'new_data/편의시설/경기도_평택시_도시공원정보_20240308.csv'\n",
    "new_library = 'new_data/편의시설/경기도공공도서관현황.csv'\n",
    "new_rest = 'new_data/편의시설/휴게음식점.xlsx'\n",
    "\n",
    "park, lib, cafe, conv = get_amenity(new_park, new_library, new_rest)"
   ]
  },
  {
   "cell_type": "code",
   "execution_count": 11,
   "metadata": {},
   "outputs": [],
   "source": [
    "park.to_csv('../../preprocessed/편의시설/공원.csv', index=False)\n",
    "lib.to_csv('../../preprocessed/편의시설/도서관.csv', index=False)\n",
    "cafe.to_csv('../../preprocessed/편의시설/카페.csv', index=False)\n",
    "conv.to_csv('../../preprocessed/편의시설/편의점.csv', index=False)"
   ]
  }
 ],
 "metadata": {
  "kernelspec": {
   "display_name": "qa_system",
   "language": "python",
   "name": "python3"
  },
  "language_info": {
   "codemirror_mode": {
    "name": "ipython",
    "version": 3
   },
   "file_extension": ".py",
   "mimetype": "text/x-python",
   "name": "python",
   "nbconvert_exporter": "python",
   "pygments_lexer": "ipython3",
   "version": "3.11.9"
  }
 },
 "nbformat": 4,
 "nbformat_minor": 2
}
