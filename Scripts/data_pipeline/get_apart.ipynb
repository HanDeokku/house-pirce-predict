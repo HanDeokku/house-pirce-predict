{
 "cells": [
  {
   "cell_type": "code",
   "execution_count": 1,
   "metadata": {},
   "outputs": [],
   "source": [
    "import pandas as pd\n",
    "pd.set_option('display.max_columns',None)\n",
    "\n",
    "import sys\n",
    "sys.path.append(\"../..\")  # 상위 디렉토리를 sys.path에 추가\n",
    "\n",
    "import requests\n",
    "import pandas as pd\n",
    "from mySetting import Client_ID, Client_Secret\n",
    "\n",
    "# 네이버 API 키\n",
    "client_id = Client_ID  # 클라이언트 ID\n",
    "client_secret = Client_Secret  # 클라이언트 Secret\n",
    "\n",
    "def get_coordinates(address):\n",
    "    url = 'https://naveropenapi.apigw.ntruss.com/map-geocode/v2/geocode'\n",
    "    headers = {\n",
    "        'X-NCP-APIGW-API-KEY-ID': client_id,\n",
    "        'X-NCP-APIGW-API-KEY': client_secret,\n",
    "    }\n",
    "    params = {\n",
    "        'query': address,\n",
    "    }\n",
    "    response = requests.get(url, headers=headers, params=params)\n",
    "    data = response.json()\n",
    "    \n",
    "    if data['addresses']:\n",
    "        x = data['addresses'][0]['x']\n",
    "        y = data['addresses'][0]['y']\n",
    "        return (x, y)\n",
    "    else:\n",
    "        return (None, None)"
   ]
  },
  {
   "cell_type": "code",
   "execution_count": 4,
   "metadata": {},
   "outputs": [],
   "source": [
    "def get_apart(new_apart_excel, apart_csv):\n",
    "    new_apart = pd.read_excel('../../' + new_apart_excel, skiprows=12)\n",
    "    new_apart['주소'] = new_apart['시군구'] + ' ' + new_apart['번지']\n",
    "    new_apart = new_apart.reset_index()[['단지명','주소','층','계약년월','전용면적(㎡)','건축년도','거래금액(만원)']]\n",
    "    new_apart['위도'] = pd.NA\n",
    "    new_apart['경도'] = pd.NA\n",
    "\n",
    "    for i, address in enumerate(new_apart['주소']):\n",
    "        lng, lat = get_coordinates(address)\n",
    "        new_apart.at[i, '위도'] = lat\n",
    "        new_apart.at[i, '경도'] = lng\n",
    "\n",
    "    new_apart.dropna(inplace=True)\n",
    "\n",
    "    apart = pd.read_csv('../../' + apart_csv)\n",
    "\n",
    "    apart = pd.concat([apart, new_apart])\n",
    "\n",
    "    return apart"
   ]
  },
  {
   "cell_type": "code",
   "execution_count": 5,
   "metadata": {},
   "outputs": [
    {
     "name": "stderr",
     "output_type": "stream",
     "text": [
      "/Users/hdk/anaconda3/envs/qa_system/lib/python3.11/site-packages/openpyxl/styles/stylesheet.py:237: UserWarning: Workbook contains no default style, apply openpyxl's default\n",
      "  warn(\"Workbook contains no default style, apply openpyxl's default\")\n"
     ]
    }
   ],
   "source": [
    "new_apart_excel = 'apart_data/아파트_실거래가_2021_2022.xlsx'\n",
    "apart_csv = 'preprocessed/아파트거래정보/아파트.csv'\n",
    "\n",
    "new_apart = get_apart(new_apart_excel, apart_csv)"
   ]
  },
  {
   "cell_type": "code",
   "execution_count": 7,
   "metadata": {},
   "outputs": [],
   "source": [
    "new_apart.to_csv('../../preprocessed/아파트거래정보/아파트.csv', index=False)"
   ]
  }
 ],
 "metadata": {
  "kernelspec": {
   "display_name": "qa_system",
   "language": "python",
   "name": "python3"
  },
  "language_info": {
   "codemirror_mode": {
    "name": "ipython",
    "version": 3
   },
   "file_extension": ".py",
   "mimetype": "text/x-python",
   "name": "python",
   "nbconvert_exporter": "python",
   "pygments_lexer": "ipython3",
   "version": "3.11.9"
  }
 },
 "nbformat": 4,
 "nbformat_minor": 2
}
