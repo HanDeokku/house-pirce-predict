{
 "cells": [
  {
   "cell_type": "code",
   "execution_count": 1,
   "metadata": {},
   "outputs": [],
   "source": [
    "import pandas as pd\n",
    "pd.set_option('display.max_columns',None)\n",
    "\n",
    "import sys\n",
    "sys.path.append(\"../..\")  # 상위 디렉토리를 sys.path에 추가\n",
    "\n",
    "import requests\n",
    "import pandas as pd\n",
    "from mySetting import Client_ID, Client_Secret\n",
    "\n",
    "# 네이버 API 키\n",
    "client_id = Client_ID  # 클라이언트 ID\n",
    "client_secret = Client_Secret  # 클라이언트 Secret\n",
    "\n",
    "def get_coordinates(address):\n",
    "    url = 'https://naveropenapi.apigw.ntruss.com/map-geocode/v2/geocode'\n",
    "    headers = {\n",
    "        'X-NCP-APIGW-API-KEY-ID': client_id,\n",
    "        'X-NCP-APIGW-API-KEY': client_secret,\n",
    "    }\n",
    "    params = {\n",
    "        'query': address,\n",
    "    }\n",
    "    response = requests.get(url, headers=headers, params=params)\n",
    "    data = response.json()\n",
    "    \n",
    "    if data['addresses']:\n",
    "        x = data['addresses'][0]['x']\n",
    "        y = data['addresses'][0]['y']\n",
    "        return (x, y)\n",
    "    else:\n",
    "        return (None, None)"
   ]
  },
  {
   "cell_type": "code",
   "execution_count": 3,
   "metadata": {},
   "outputs": [],
   "source": [
    "def get_hospital(new_hospital, new_pharmacy):\n",
    "    # 병원\n",
    "    all_hospital = pd.read_excel('../../' + new_hospital)\n",
    "    tmp = all_hospital.loc[all_hospital['주소'].str.contains('평택시')][['요양기관명','주소','종별코드명']].reset_index().drop(columns=['index']).rename(columns={'요양기관명':'이름'})\n",
    "\n",
    "    tmp = all_hospital.loc[all_hospital['주소'].str.contains('평택시')][['요양기관명','주소','종별코드명']].reset_index().drop(columns=['index']).rename(columns={'요양기관명':'이름'})\n",
    "    tmp['위도'] = pd.NA\n",
    "    tmp['경도'] = pd.NA\n",
    "\n",
    "    for i, address in enumerate(tmp['주소']):\n",
    "        lng, lat = get_coordinates(address)\n",
    "        tmp.at[i, '위도'] = lat\n",
    "        tmp.at[i, '경도'] = lng\n",
    "\n",
    "    clinic = tmp.loc[tmp['종별코드명'] == '의원'].drop(columns=['종별코드명'])\n",
    "    oriental = tmp.loc[(tmp['종별코드명'] == '한의원') | (tmp['종별코드명'] == '한방병원')].drop(columns=['종별코드명'])\n",
    "    dentistry = tmp.loc[tmp['종별코드명'] == '치과의원'].drop(columns=['종별코드명'])\n",
    "    hospital = tmp.loc[tmp['종별코드명'] == '병원'].drop(columns=['종별코드명'])\n",
    "    nursing = tmp.loc[tmp['종별코드명'] == '요양병원'].drop(columns=['종별코드명'])\n",
    "    general = tmp.loc[tmp['종별코드명'] == '종합병원'].drop(columns=['종별코드명'])\n",
    "    public = tmp.loc[tmp['종별코드명'].str.contains('보건')].drop(columns=['종별코드명'])\n",
    "\n",
    "\n",
    "    # 약국\n",
    "    all_pharmacy = pd.read_excel('../../' + new_pharmacy)\n",
    "    pharmacy = all_pharmacy.loc[all_pharmacy['주소'].str.contains('평택시')][['요양기관명','주소']].reset_index().drop(columns=['index']).rename(columns={'요양기관명':'이름'})\n",
    "    pharmacy['위도'] = pd.NA\n",
    "    pharmacy['경도'] = pd.NA\n",
    "\n",
    "    for i, address in enumerate(pharmacy['주소']):\n",
    "        lng, lat = get_coordinates(address)\n",
    "        pharmacy.at[i, '위도'] = lat\n",
    "        pharmacy.at[i, '경도'] = lng\n",
    "\n",
    "    return clinic, oriental, dentistry, hospital, nursing, general, public, pharmacy"
   ]
  },
  {
   "cell_type": "code",
   "execution_count": 4,
   "metadata": {},
   "outputs": [],
   "source": [
    "new_hospital = 'new_data/의료시설/1.병원정보서비스 2024.6.xlsx'\n",
    "new_pharmacy = 'new_data/의료시설/2.약국정보서비스 2024.6.xlsx'\n",
    "\n",
    "clinic, oriental, dentistry, hospital, nursing, general, public, pharmacy = get_hospital(new_hospital, new_pharmacy)"
   ]
  },
  {
   "cell_type": "code",
   "execution_count": 5,
   "metadata": {},
   "outputs": [],
   "source": [
    "clinic.to_csv('../../preprocessed/의료시설/의원.csv', index=False)\n",
    "oriental.to_csv('../../preprocessed/의료시설/한의원.csv', index=False)\n",
    "dentistry.to_csv('../../preprocessed/의료시설/치과.csv', index=False)\n",
    "hospital.to_csv('../../preprocessed/의료시설/일반병원.csv', index=False)\n",
    "nursing.to_csv('../../preprocessed/의료시설/요양병원.csv', index=False)\n",
    "general.to_csv('../../preprocessed/의료시설/종합병원.csv', index=False)\n",
    "public.to_csv('../../preprocessed/의료시설/보건병원.csv', index=False)\n",
    "pharmacy.to_csv('../../preprocessed/의료시설/약국.csv', index=False)"
   ]
  }
 ],
 "metadata": {
  "kernelspec": {
   "display_name": "qa_system",
   "language": "python",
   "name": "python3"
  },
  "language_info": {
   "codemirror_mode": {
    "name": "ipython",
    "version": 3
   },
   "file_extension": ".py",
   "mimetype": "text/x-python",
   "name": "python",
   "nbconvert_exporter": "python",
   "pygments_lexer": "ipython3",
   "version": "3.11.9"
  }
 },
 "nbformat": 4,
 "nbformat_minor": 2
}
