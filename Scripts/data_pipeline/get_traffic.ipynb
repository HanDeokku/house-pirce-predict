{
 "cells": [
  {
   "cell_type": "code",
   "execution_count": 1,
   "metadata": {},
   "outputs": [],
   "source": [
    "import pandas as pd\n",
    "pd.set_option('display.max_columns',None)\n",
    "\n",
    "import sys\n",
    "sys.path.append(\"../..\")  # 상위 디렉토리를 sys.path에 추가\n",
    "\n",
    "import requests\n",
    "import pandas as pd\n",
    "from mySetting import Client_ID, Client_Secret\n",
    "\n",
    "# 네이버 API 키\n",
    "client_id = Client_ID  # 클라이언트 ID\n",
    "client_secret = Client_Secret  # 클라이언트 Secret\n",
    "\n",
    "def get_coordinates(address):\n",
    "    url = 'https://naveropenapi.apigw.ntruss.com/map-geocode/v2/geocode'\n",
    "    headers = {\n",
    "        'X-NCP-APIGW-API-KEY-ID': client_id,\n",
    "        'X-NCP-APIGW-API-KEY': client_secret,\n",
    "    }\n",
    "    params = {\n",
    "        'query': address,\n",
    "    }\n",
    "    response = requests.get(url, headers=headers, params=params)\n",
    "    data = response.json()\n",
    "    \n",
    "    if data['addresses']:\n",
    "        x = data['addresses'][0]['x']\n",
    "        y = data['addresses'][0]['y']\n",
    "        return (x, y)\n",
    "    else:\n",
    "        return (None, None)"
   ]
  },
  {
   "cell_type": "code",
   "execution_count": 3,
   "metadata": {},
   "outputs": [],
   "source": [
    "def get_traffic(new_bus_stop, new_station):\n",
    "    # 버스정류장\n",
    "    bus_stop = pd.read_csv('../../' + new_bus_stop, encoding='cp949')\n",
    "    bus = bus_stop.loc[bus_stop['도시명'].str.contains('평택')][['정류장명','위도','경도']].rename(columns={'정류장명':'이름'})\n",
    "\n",
    "\n",
    "    # 역\n",
    "    station = pd.read_excel('../../' + new_station)\n",
    "    train = station.loc[station['역사도로명주소'].str.contains('평택시')][['역사명','역사도로명주소','역위도','역경도']].rename(columns={'역사도로명주소':'주소','역위도':'위도','역경도':'경도','역사명':'이름'})\n",
    "\n",
    "    return bus, train"
   ]
  },
  {
   "cell_type": "code",
   "execution_count": 4,
   "metadata": {},
   "outputs": [],
   "source": [
    "new_bus_stop = 'new_data/교통시설/국토교통부_전국 버스정류장 위치정보_20231016.csv'\n",
    "new_station = 'new_data/교통시설/전체_도시철도역사정보_20240630.xlsx'\n",
    "\n",
    "bus, train = get_traffic(new_bus_stop, new_station)"
   ]
  },
  {
   "cell_type": "code",
   "execution_count": 5,
   "metadata": {},
   "outputs": [],
   "source": [
    "bus.to_csv('../../preprocessed/교통시설/버스정류장.csv', index=False)\n",
    "train.to_csv('../../preprocessed/교통시설/역.csv', index=False)"
   ]
  }
 ],
 "metadata": {
  "kernelspec": {
   "display_name": "qa_system",
   "language": "python",
   "name": "python3"
  },
  "language_info": {
   "codemirror_mode": {
    "name": "ipython",
    "version": 3
   },
   "file_extension": ".py",
   "mimetype": "text/x-python",
   "name": "python",
   "nbconvert_exporter": "python",
   "pygments_lexer": "ipython3",
   "version": "3.11.9"
  }
 },
 "nbformat": 4,
 "nbformat_minor": 2
}
