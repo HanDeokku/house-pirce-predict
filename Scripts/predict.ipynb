{
 "cells": [
  {
   "cell_type": "code",
   "execution_count": 1,
   "metadata": {},
   "outputs": [],
   "source": [
    "import math\n",
    "import pandas as pd\n",
    "pd.set_option('display.max_columns',None)"
   ]
  },
  {
   "cell_type": "code",
   "execution_count": 2,
   "metadata": {},
   "outputs": [],
   "source": [
    "# haversine 공식 함수\n",
    "def haversine_distance(lat1, lon1, lat2, lon2):\n",
    "  # 위도와 경도를 라디안으로 변환\n",
    "  lat1, lon1, lat2, lon2 = map(math.radians, [lat1, lon1, lat2, lon2])\n",
    "\n",
    "  # Haversine 공식 계산\n",
    "  dlon = lon2 - lon1\n",
    "  dlat = lat2 - lat1\n",
    "  a = math.sin(dlat/2)**2 + math.cos(lat1) * math.cos(lat2) * math.sin(dlon/2)**2\n",
    "  c = 2 * math.atan2(math.sqrt(a), math.sqrt(1-a))\n",
    "  # 지구 반지름\n",
    "  radius = 6371\n",
    "  # 두 지점 간의 거리 계산\n",
    "  distance = radius * c\n",
    "\n",
    "  return distance\n",
    "\n",
    "# 아파트와 병원 간의 거리 계산 후 데이터프레임에 추가하는 함수\n",
    "def calculate_distances(apartRow, medicalDf):\n",
    "    distances = []\n",
    "    for _, medicalRow in medicalDf.iterrows():\n",
    "        distance = haversine_distance(apartRow['위도'], apartRow['경도'], medicalRow['위도'], medicalRow['경도'])\n",
    "        distances.append(distance)\n",
    "    return pd.Series(distances, index=medicalDf['이름'])"
   ]
  },
  {
   "cell_type": "code",
   "execution_count": 3,
   "metadata": {},
   "outputs": [],
   "source": [
    "def upload_location_data():\n",
    "    elementary = pd.read_csv('../preprocessed/교육시설/초등학교.csv')\n",
    "    middle = pd.read_csv('../preprocessed/교육시설/중학교.csv')\n",
    "    high = pd.read_csv('../preprocessed/교육시설/고등학교.csv')\n",
    "    kinder = pd.read_csv('../preprocessed/교육시설/유치원.csv')\n",
    "    daycare = pd.read_csv('../preprocessed/교육시설/어린이집.csv')\n",
    "    academy = pd.read_csv('../preprocessed/교육시설/학원.csv')\n",
    "\n",
    "    bus = pd.read_csv('../preprocessed/교통시설/버스정류장.csv')\n",
    "    subway = pd.read_csv('../preprocessed/교통시설/역.csv')\n",
    "    \n",
    "    mart = pd.read_csv('../preprocessed/상업시설/마트.csv')\n",
    "\n",
    "    public = pd.read_csv('../preprocessed/의료시설/보건병원.csv')\n",
    "    nursing = pd.read_csv('../preprocessed/의료시설/요양병원.csv')\n",
    "    hospital = pd.read_csv('../preprocessed/의료시설/일반병원.csv')\n",
    "    general = pd.read_csv('../preprocessed/의료시설/종합병원.csv')\n",
    "    clinic = pd.read_csv('../preprocessed/의료시설/의원.csv')\n",
    "    oriental = pd.read_csv('../preprocessed/의료시설/한의원.csv')\n",
    "    dentistry = pd.read_csv('../preprocessed/의료시설/치과.csv')\n",
    "    pharmacy = pd.read_csv('../preprocessed/의료시설/약국.csv')\n",
    "\n",
    "    park = pd.read_csv('../preprocessed/편의시설/공원.csv')\n",
    "    library = pd.read_csv('../preprocessed/편의시설/도서관.csv')\n",
    "    cafe = pd.read_csv('../preprocessed/편의시설/카페.csv')\n",
    "    convenience = pd.read_csv('../preprocessed/편의시설/편의점.csv')\n",
    "\n",
    "    return (elementary, middle, high, kinder, daycare, academy, bus, subway, mart, public, nursing, hospital, general, clinic, oriental, dentistry, pharmacy, park, library, cafe, convenience)\n",
    "\n"
   ]
  },
  {
   "cell_type": "code",
   "execution_count": 4,
   "metadata": {},
   "outputs": [],
   "source": [
    "def get_distance(apart):\n",
    "  # 1개의 아파트와 n개의 입지시설 데이터를 매칭시키고 거리를 구함.\n",
    "  # 구해진 거리 중 최소의 값만 추출할 것.\n",
    "  # 의료시설\n",
    "  pharmacy_dt = apart.apply(lambda row: calculate_distances(row, pharmacy), axis=1)\n",
    "  pharmacy_minDt = pharmacy_dt.apply(lambda row : row.min(), axis = 1)\n",
    "\n",
    "  clinic_dt = apart.apply(lambda row: calculate_distances(row, clinic), axis=1)\n",
    "  clinic_minDt = clinic_dt.apply(lambda row : row.min(), axis = 1)\n",
    "\n",
    "  hospital_dt = apart.apply(lambda row: calculate_distances(row, hospital), axis=1)\n",
    "  hospital_minDt = hospital_dt.apply(lambda row : row.min(), axis = 1)\n",
    "\n",
    "  general_dt = apart.apply(lambda row: calculate_distances(row, general), axis=1)\n",
    "  general_minDt = general_dt.apply(lambda row : row.min(), axis = 1)\n",
    "  \n",
    "  nursing_dt = apart.apply(lambda row: calculate_distances(row, nursing), axis=1)\n",
    "  nursing_minDt = nursing_dt.apply(lambda row : row.min(), axis = 1)\n",
    "  \n",
    "  public_dt = apart.apply(lambda row: calculate_distances(row, public), axis=1)\n",
    "  public_minDt = public_dt.apply(lambda row : row.min(), axis = 1)\n",
    "\n",
    "  dentistry_dt = apart.apply(lambda row: calculate_distances(row, dentistry), axis=1)\n",
    "  dentistry_minDt = dentistry_dt.apply(lambda row : row.min(), axis = 1)\n",
    "\n",
    "  oriental_dt = apart.apply(lambda row: calculate_distances(row, oriental), axis=1)\n",
    "  oriental_minDt = oriental_dt.apply(lambda row : row.min(), axis = 1)\n",
    "\n",
    "\n",
    "  # 상업시설\n",
    "  mart_dt = apart.apply(lambda row: calculate_distances(row, mart), axis=1)\n",
    "  mart_minDt = mart_dt.apply(lambda row : row.min(), axis = 1)\n",
    "\n",
    "\n",
    "  # 편의시설\n",
    "  park_dt = apart.apply(lambda row: calculate_distances(row, park), axis=1)\n",
    "  park_minDt = park_dt.apply(lambda row : row.min(), axis = 1)\n",
    "\n",
    "  library_dt = apart.apply(lambda row: calculate_distances(row, library), axis=1)\n",
    "  library_minDt = library_dt.apply(lambda row : row.min(), axis = 1)\n",
    "\n",
    "  cafe_dt = apart.apply(lambda row: calculate_distances(row, cafe), axis=1)\n",
    "  cafe_minDt = cafe_dt.apply(lambda row : row.min(), axis = 1)\n",
    "\n",
    "  convenience_dt = apart.apply(lambda row: calculate_distances(row, convenience), axis=1)\n",
    "  convenience_minDt = convenience_dt.apply(lambda row : row.min(), axis = 1)\n",
    "\n",
    "\n",
    "  # 교육시설\n",
    "  kinder_dt = apart.apply(lambda row: calculate_distances(row, kinder), axis=1)\n",
    "  kinder_minDt = kinder_dt.apply(lambda row : row.min(), axis = 1)\n",
    "\n",
    "  elementary_dt = apart.apply(lambda row: calculate_distances(row, elementary), axis=1)\n",
    "  elementary_minDt = elementary_dt.apply(lambda row : row.min(), axis = 1)\n",
    "\n",
    "  middle_dt = apart.apply(lambda row: calculate_distances(row, middle), axis=1)\n",
    "  middle_minDt = middle_dt.apply(lambda row : row.min(), axis = 1)\n",
    "\n",
    "  high_dt = apart.apply(lambda row: calculate_distances(row, high), axis=1)\n",
    "  high_minDt = high_dt.apply(lambda row : row.min(), axis = 1)\n",
    "\n",
    "  academy_dt = apart.apply(lambda row: calculate_distances(row, academy), axis=1)\n",
    "  academy_minDt = academy_dt.apply(lambda row : row.min(), axis = 1)\n",
    "\n",
    "  daycare_dt = apart.apply(lambda row: calculate_distances(row, daycare), axis=1)\n",
    "  daycare_minDt = daycare_dt.apply(lambda row : row.min(), axis = 1)\n",
    "\n",
    "\n",
    "  # 교통시설\n",
    "  subway_dt = apart.apply(lambda row: calculate_distances(row, subway), axis=1)\n",
    "  subway_minDt = subway_dt.apply(lambda row : row.min(), axis = 1)\n",
    "\n",
    "  bus_dt = apart.apply(lambda row: calculate_distances(row, bus), axis=1)\n",
    "  bus_minDt = bus_dt.apply(lambda row : row.min(), axis = 1)\n",
    "\n",
    "\n",
    "  # 모든 아파트로부터 입지 간 최소 거리 데이터 하나로 합침\n",
    "  location = pd.concat(\n",
    "    [pharmacy_minDt, clinic_minDt, hospital_minDt, general_minDt, nursing_minDt, public_minDt, oriental_minDt, dentistry_minDt, mart_minDt, park_minDt, library_minDt, cafe_minDt, convenience_minDt, daycare_minDt ,kinder_minDt, elementary_minDt, middle_minDt, high_minDt, academy_minDt, subway_minDt, bus_minDt],\n",
    "    axis=1,\n",
    "    keys=['약국', '의원', '일반병원', '종합병원', '요양병원', '보건병원', '한방병원', '치과', '대형상권', '공원', '도서관', '카페', '편의점', '유치원', '어린이집', '초등학교', '중학교', '고등학교', '학원', '지하철', '버스정류장']\n",
    "    )\n",
    "\n",
    "  return location"
   ]
  },
  {
   "cell_type": "code",
   "execution_count": 5,
   "metadata": {},
   "outputs": [],
   "source": [
    "import sys\n",
    "sys.path.append(\"..\")  # 상위 디렉토리를 sys.path에 추가\n",
    "\n",
    "import requests\n",
    "import pandas as pd\n",
    "from mySetting import Client_ID, Client_Secret\n",
    "\n",
    "# 네이버 API 키\n",
    "client_id = Client_ID  # 클라이언트 ID\n",
    "client_secret = Client_Secret  # 클라이언트 Secret\n",
    "\n",
    "def get_coordinates(address):\n",
    "    url = 'https://naveropenapi.apigw.ntruss.com/map-geocode/v2/geocode'\n",
    "    headers = {\n",
    "        'X-NCP-APIGW-API-KEY-ID': client_id,\n",
    "        'X-NCP-APIGW-API-KEY': client_secret,\n",
    "    }\n",
    "    params = {\n",
    "        'query': address,\n",
    "    }\n",
    "    response = requests.get(url, headers=headers, params=params)\n",
    "    data = response.json()\n",
    "    \n",
    "    if data['addresses']:\n",
    "        x = data['addresses'][0]['x']\n",
    "        y = data['addresses'][0]['y']\n",
    "        return (x, y)\n",
    "    else:\n",
    "        return (None, None)"
   ]
  },
  {
   "cell_type": "code",
   "execution_count": 6,
   "metadata": {},
   "outputs": [
    {
     "name": "stdout",
     "output_type": "stream",
     "text": [
      "아파트 이름 :  삼성아파트\n",
      "아파트 주소 :  경기도 평택시 평남로 281\n",
      "아파트 층 수 :  11\n",
      "아파트 전용면적 :  84.87\n",
      "아파트 건축년월 :  1993\n",
      "아파트 매매가 :  25000\n"
     ]
    }
   ],
   "source": [
    "apart_name = '삼성아파트'\n",
    "print(\"아파트 이름 : \", apart_name)\n",
    "\n",
    "apart_address = '경기도 평택시 평남로 281'\n",
    "print(\"아파트 주소 : \", apart_address)\n",
    "\n",
    "apart_floor = 11\n",
    "print(\"아파트 층 수 : \", apart_floor)\n",
    "\n",
    "apart_area = 84.87\n",
    "print(\"아파트 전용면적 : \", apart_area)\n",
    "\n",
    "apart_year = 1993\n",
    "print(\"아파트 건축년월 : \", apart_year)\n",
    "\n",
    "apart_price = 25000\n",
    "print(\"아파트 매매가 : \", apart_price)"
   ]
  },
  {
   "cell_type": "code",
   "execution_count": 41,
   "metadata": {},
   "outputs": [
    {
     "name": "stdout",
     "output_type": "stream",
     "text": [
      "아파트 이름 :  평택지제역동문굿모닝힐맘시티3단지\n",
      "아파트 주소 :  경기도 평택시 신촌5로 20\n",
      "아파트 층 수 :  10\n",
      "아파트 전용면적 :  59.97\n",
      "아파트 건축년월 :  2021\n",
      "아파트 매매가 :  32000\n"
     ]
    }
   ],
   "source": [
    "apart_name = '평택지제역동문굿모닝힐맘시티3단지'\n",
    "print(\"아파트 이름 : \", apart_name)\n",
    "\n",
    "apart_address = '경기도 평택시 신촌5로 20'\n",
    "print(\"아파트 주소 : \", apart_address)\n",
    "\n",
    "apart_floor = 10\n",
    "print(\"아파트 층 수 : \", apart_floor)\n",
    "\n",
    "apart_area = 59.97\n",
    "print(\"아파트 전용면적 : \", apart_area)\n",
    "\n",
    "apart_year = 2021\n",
    "print(\"아파트 건축년월 : \", apart_year)\n",
    "\n",
    "apart_price = 32000\n",
    "print(\"아파트 매매가 : \", apart_price)"
   ]
  },
  {
   "cell_type": "code",
   "execution_count": 42,
   "metadata": {},
   "outputs": [],
   "source": [
    "apart = {\n",
    "    \"단지명\" : [apart_name],\n",
    "    \"주소\" : [apart_address],\n",
    "    \"층\" : [apart_floor],\n",
    "    \"전용면적(㎡)\" : [apart_area],\n",
    "    \"건축년도\" : [apart_year],\n",
    "    \"매매가\" : [apart_price]\n",
    "}\n",
    "\n",
    "apart_df = pd.DataFrame(apart)"
   ]
  },
  {
   "cell_type": "code",
   "execution_count": 43,
   "metadata": {},
   "outputs": [
    {
     "name": "stdout",
     "output_type": "stream",
     "text": [
      "단지명         object\n",
      "주소          object\n",
      "층            int64\n",
      "전용면적(㎡)    float64\n",
      "건축년도         int64\n",
      "매매가        float64\n",
      "dtype: object\n"
     ]
    }
   ],
   "source": [
    "apart_df = apart_df.astype({\n",
    "    \"단지명\": \"object\",            # 문자열 타입\n",
    "    \"주소\": \"object\",              # 문자열 타입\n",
    "    \"층\": \"int\",                   # 정수형\n",
    "    \"전용면적(㎡)\": \"float\",       # 부동소수점\n",
    "    \"건축년도\": \"int\",             # 정수형\n",
    "    \"매매가\": \"float\"              # 부동소수점\n",
    "})\n",
    "\n",
    "print(apart_df.dtypes)  #"
   ]
  },
  {
   "cell_type": "code",
   "execution_count": 44,
   "metadata": {},
   "outputs": [
    {
     "data": {
      "text/html": [
       "<div>\n",
       "<style scoped>\n",
       "    .dataframe tbody tr th:only-of-type {\n",
       "        vertical-align: middle;\n",
       "    }\n",
       "\n",
       "    .dataframe tbody tr th {\n",
       "        vertical-align: top;\n",
       "    }\n",
       "\n",
       "    .dataframe thead th {\n",
       "        text-align: right;\n",
       "    }\n",
       "</style>\n",
       "<table border=\"1\" class=\"dataframe\">\n",
       "  <thead>\n",
       "    <tr style=\"text-align: right;\">\n",
       "      <th></th>\n",
       "      <th>단지명</th>\n",
       "      <th>주소</th>\n",
       "      <th>층</th>\n",
       "      <th>전용면적(㎡)</th>\n",
       "      <th>건축년도</th>\n",
       "      <th>매매가</th>\n",
       "    </tr>\n",
       "  </thead>\n",
       "  <tbody>\n",
       "    <tr>\n",
       "      <th>0</th>\n",
       "      <td>평택지제역동문굿모닝힐맘시티3단지</td>\n",
       "      <td>경기도 평택시 신촌5로 20</td>\n",
       "      <td>10</td>\n",
       "      <td>59.97</td>\n",
       "      <td>2021</td>\n",
       "      <td>32000.0</td>\n",
       "    </tr>\n",
       "  </tbody>\n",
       "</table>\n",
       "</div>"
      ],
      "text/plain": [
       "                 단지명               주소   층  전용면적(㎡)  건축년도      매매가\n",
       "0  평택지제역동문굿모닝힐맘시티3단지  경기도 평택시 신촌5로 20  10    59.97  2021  32000.0"
      ]
     },
     "execution_count": 44,
     "metadata": {},
     "output_type": "execute_result"
    }
   ],
   "source": [
    "apart_df"
   ]
  },
  {
   "cell_type": "code",
   "execution_count": 45,
   "metadata": {},
   "outputs": [],
   "source": [
    "apart_df['위도'] = pd.NA\n",
    "apart_df['경도'] = pd.NA\n",
    "\n",
    "for i, address in enumerate(apart_df['주소']):\n",
    "    lng, lat = get_coordinates(address)\n",
    "    apart_df.at[i, '위도'] = lat\n",
    "    apart_df.at[i, '경도'] = lng"
   ]
  },
  {
   "cell_type": "code",
   "execution_count": 46,
   "metadata": {},
   "outputs": [],
   "source": [
    "apart_df['위도'] = apart_df['위도'].astype(float)\n",
    "apart_df['경도'] = apart_df['경도'].astype(float)"
   ]
  },
  {
   "cell_type": "code",
   "execution_count": 47,
   "metadata": {},
   "outputs": [],
   "source": [
    "elementary, middle, high, kinder, daycare, academy, bus, subway, mart, public, nursing, hospital, general, clinic, oriental, dentistry, pharmacy, park, library, cafe, convenience = upload_location_data()\n",
    "\n",
    "location = get_distance(apart_df)\n",
    "\n",
    "data = pd.concat([apart_df, location], axis=1)"
   ]
  },
  {
   "cell_type": "code",
   "execution_count": 48,
   "metadata": {},
   "outputs": [],
   "source": [
    "x = data.drop(columns=['단지명','주소','매매가'])"
   ]
  },
  {
   "cell_type": "code",
   "execution_count": 49,
   "metadata": {},
   "outputs": [],
   "source": [
    "from joblib import load\n",
    "\n",
    "# 모델 불러오기\n",
    "model_xgb = load('modelling/best_xgb_model.joblib')\n",
    "model_cat = load('modelling/best_cat_model.joblib')\n",
    "model_rf = load('modelling/best_rf_model.joblib')\n",
    "scaler = load('modelling/scaler.joblib')\n",
    "\n",
    "x = scaler.transform(x)\n",
    "\n",
    "# 예측\n",
    "pred_xgb = model_xgb.predict(x)\n",
    "pred_cat = model_cat.predict(x)\n",
    "pred_rf = model_rf.predict(x)"
   ]
  },
  {
   "cell_type": "code",
   "execution_count": 50,
   "metadata": {},
   "outputs": [
    {
     "name": "stdout",
     "output_type": "stream",
     "text": [
      "---------------------\n",
      "XGBoost\n",
      "\n",
      "예측 매매값: [30743.342]\n",
      "예측 오차: [-1256.6582]\n",
      "---------------------\n",
      "Catboost\n",
      "\n",
      "예측 매매값: [34219.59880934]\n",
      "예측 오차: [2219.59880934]\n",
      "---------------------\n",
      "랜덤포레스트\n",
      "\n",
      "예측 매매값: [32078.84321002]\n",
      "예측 오차: [78.84321002]\n",
      "---------------------\n"
     ]
    }
   ],
   "source": [
    "print('---------------------')\n",
    "print('XGBoost')\n",
    "print()\n",
    "print('예측 매매값:', pred_xgb)\n",
    "print('예측 오차:', pred_xgb - data['매매가'][0])\n",
    "print('---------------------')\n",
    "print('Catboost')\n",
    "print()\n",
    "print('예측 매매값:', pred_cat)\n",
    "print('예측 오차:', pred_cat - data['매매가'][0])\n",
    "print('---------------------')\n",
    "print('랜덤포레스트')\n",
    "print()\n",
    "print('예측 매매값:', pred_rf)\n",
    "print('예측 오차:', pred_rf  - data['매매가'][0])\n",
    "print('---------------------')"
   ]
  },
  {
   "cell_type": "code",
   "execution_count": null,
   "metadata": {},
   "outputs": [],
   "source": []
  }
 ],
 "metadata": {
  "kernelspec": {
   "display_name": "qa_system",
   "language": "python",
   "name": "python3"
  },
  "language_info": {
   "codemirror_mode": {
    "name": "ipython",
    "version": 3
   },
   "file_extension": ".py",
   "mimetype": "text/x-python",
   "name": "python",
   "nbconvert_exporter": "python",
   "pygments_lexer": "ipython3",
   "version": "3.11.9"
  }
 },
 "nbformat": 4,
 "nbformat_minor": 2
}
