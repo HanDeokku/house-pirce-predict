{
 "cells": [
  {
   "cell_type": "code",
   "execution_count": 1,
   "metadata": {},
   "outputs": [],
   "source": [
    "import pandas as pd\n",
    "pd.set_option('display.max_columns', None)"
   ]
  },
  {
   "cell_type": "code",
   "execution_count": 17,
   "metadata": {},
   "outputs": [],
   "source": [
    "import sys\n",
    "sys.path.append(\"..\")  # 상위 디렉토리를 sys.path에 추가\n",
    "\n",
    "import requests\n",
    "import pandas as pd\n",
    "from mySetting import Client_ID, Client_Secret\n",
    "\n",
    "# 네이버 API 키\n",
    "client_id = Client_ID  # 클라이언트 ID\n",
    "client_secret = Client_Secret  # 클라이언트 Secret\n",
    "\n",
    "def get_coordinates(address):\n",
    "    url = 'https://naveropenapi.apigw.ntruss.com/map-geocode/v2/geocode'\n",
    "    headers = {\n",
    "        'X-NCP-APIGW-API-KEY-ID': client_id,\n",
    "        'X-NCP-APIGW-API-KEY': client_secret,\n",
    "    }\n",
    "    params = {\n",
    "        'query': address,\n",
    "    }\n",
    "    response = requests.get(url, headers=headers, params=params)\n",
    "    data = response.json()\n",
    "    \n",
    "    if data['addresses']:\n",
    "        x = data['addresses'][0]['x']\n",
    "        y = data['addresses'][0]['y']\n",
    "        return (x, y)\n",
    "    else:\n",
    "        return (None, None)"
   ]
  },
  {
   "cell_type": "markdown",
   "metadata": {},
   "source": [
    "# 공원"
   ]
  },
  {
   "cell_type": "code",
   "execution_count": 7,
   "metadata": {},
   "outputs": [],
   "source": [
    "park = pd.read_csv('../new_data/편의시설/경기도_평택시_도시공원정보_20240308.csv', encoding='cp949')"
   ]
  },
  {
   "cell_type": "code",
   "execution_count": 8,
   "metadata": {},
   "outputs": [],
   "source": [
    "park = park[['공원명','소재지지번주소','위도','경도']].rename(columns={'소재지지번주소':'주소'})"
   ]
  },
  {
   "cell_type": "code",
   "execution_count": 9,
   "metadata": {},
   "outputs": [],
   "source": [
    "park.to_csv('../preprocessed/편의시설/공원.csv', index=False)"
   ]
  },
  {
   "cell_type": "markdown",
   "metadata": {},
   "source": [
    "# 도서관"
   ]
  },
  {
   "cell_type": "code",
   "execution_count": 10,
   "metadata": {},
   "outputs": [],
   "source": [
    "library = pd.read_csv('../new_data/편의시설/경기도공공도서관현황.csv', encoding='cp949')"
   ]
  },
  {
   "cell_type": "code",
   "execution_count": 18,
   "metadata": {},
   "outputs": [],
   "source": [
    "lib = library.loc[library['소재지주소'].str.contains('평택시')][['도서관명','소재지주소']].reset_index().drop(columns=['index'])\n",
    "lib['위도'] = pd.NA\n",
    "lib['경도'] = pd.NA\n",
    "\n",
    "for i, address in enumerate(lib['소재지주소']):\n",
    "    lng, lat = get_coordinates(address)\n",
    "    lib.at[i, '위도'] = lat\n",
    "    lib.at[i, '경도'] = lng"
   ]
  },
  {
   "cell_type": "code",
   "execution_count": 20,
   "metadata": {},
   "outputs": [],
   "source": [
    "lib = lib.rename(columns={'소재지주소':'주소'})"
   ]
  },
  {
   "cell_type": "code",
   "execution_count": 22,
   "metadata": {},
   "outputs": [],
   "source": [
    "lib.to_csv('../preprocessed/편의시설/도서관.csv', index=False)"
   ]
  },
  {
   "cell_type": "markdown",
   "metadata": {},
   "source": [
    "# 휴게음식점"
   ]
  },
  {
   "cell_type": "code",
   "execution_count": 24,
   "metadata": {},
   "outputs": [
    {
     "name": "stderr",
     "output_type": "stream",
     "text": [
      "/Users/hdk/anaconda3/lib/python3.11/site-packages/openpyxl/styles/stylesheet.py:226: UserWarning: Workbook contains no default style, apply openpyxl's default\n",
      "  warn(\"Workbook contains no default style, apply openpyxl's default\")\n"
     ]
    }
   ],
   "source": [
    "all_rest = pd.read_excel('../new_data/편의시설/휴게음식점.xlsx')"
   ]
  },
  {
   "cell_type": "code",
   "execution_count": 33,
   "metadata": {},
   "outputs": [],
   "source": [
    "tmp = all_rest[['사업장명','소재지전체주소','업태구분명']].reset_index().drop(columns=['index'])\n",
    "tmp['위도'] = pd.NA\n",
    "tmp['경도'] = pd.NA\n",
    "\n",
    "for i, address in enumerate(tmp['소재지전체주소']):\n",
    "    lng, lat = get_coordinates(address)\n",
    "    tmp.at[i, '위도'] = lat\n",
    "    tmp.at[i, '경도'] = lng"
   ]
  },
  {
   "cell_type": "code",
   "execution_count": 37,
   "metadata": {},
   "outputs": [],
   "source": [
    "cafe = tmp.loc[tmp['업태구분명'] == '커피숍'].drop(columns=['업태구분명']).rename(columns={'소재지전체주소':'주소'})\n",
    "conv = tmp.loc[tmp['업태구분명'] == '편의점'].drop(columns=['업태구분명']).rename(columns={'소재지전체주소':'주소'})"
   ]
  },
  {
   "cell_type": "code",
   "execution_count": 39,
   "metadata": {},
   "outputs": [],
   "source": [
    "cafe.to_csv('../preprocessed/편의시설/카페.csv')\n",
    "conv.to_csv('../preprocessed/편의시설/편의점.csv')"
   ]
  },
  {
   "cell_type": "code",
   "execution_count": null,
   "metadata": {},
   "outputs": [],
   "source": []
  }
 ],
 "metadata": {
  "kernelspec": {
   "display_name": "base",
   "language": "python",
   "name": "python3"
  },
  "language_info": {
   "codemirror_mode": {
    "name": "ipython",
    "version": 3
   },
   "file_extension": ".py",
   "mimetype": "text/x-python",
   "name": "python",
   "nbconvert_exporter": "python",
   "pygments_lexer": "ipython3",
   "version": "3.11.5"
  }
 },
 "nbformat": 4,
 "nbformat_minor": 2
}
